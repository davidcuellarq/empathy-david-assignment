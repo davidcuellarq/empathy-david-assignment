{
 "cells": [
  {
   "cell_type": "markdown",
   "id": "74b00091",
   "metadata": {},
   "source": [
    "# test_group_models"
   ]
  },
  {
   "cell_type": "markdown",
   "id": "21566614",
   "metadata": {},
   "source": [
    "In this notebook it'll show the models I decided to use to predict the the test group model."
   ]
  },
  {
   "cell_type": "code",
   "execution_count": 43,
   "id": "77abb3a3",
   "metadata": {},
   "outputs": [],
   "source": [
    "import pandas as pd\n",
    "import matplotlib.pyplot as plt\n",
    "import numpy as np\n",
    "import sklearn\n",
    "from sklearn.model_selection import cross_validate, train_test_split, cross_val_score\n",
    "from sklearn.preprocessing import PolynomialFeatures, StandardScaler\n",
    "from sklearn.pipeline import make_pipeline\n",
    "from sklearn.linear_model import LinearRegression, LogisticRegression\n",
    "from sklearn.svm import SVR\n",
    "from sklearn.metrics import mean_squared_error, mean_absolute_error, r2_score\n",
    "import keras \n",
    "from keras.models import Sequential\n",
    "from keras.layers import Dense, Conv1D, MaxPooling1D, Flatten\n",
    "from sklearn.model_selection import KFold, GroupKFold"
   ]
  },
  {
   "cell_type": "code",
   "execution_count": 26,
   "id": "a20ced33",
   "metadata": {},
   "outputs": [],
   "source": [
    "# Load features from control  \n",
    "data = pd.read_csv('test_final_features.csv')\n",
    "\n",
    "# Scale data for better perfomance\n",
    "scaler = StandardScaler()\n",
    "\n",
    "# Extract name of columns in df as a list, remove the participant name and empathy total\n",
    "columns = list(data.columns[1:-1])\n",
    "\n",
    "# Scale data by columns \n",
    "data[columns] = scaler.fit_transform(data[columns])"
   ]
  },
  {
   "cell_type": "code",
   "execution_count": 27,
   "id": "31959419",
   "metadata": {},
   "outputs": [
    {
     "data": {
      "text/html": [
       "<div>\n",
       "<style scoped>\n",
       "    .dataframe tbody tr th:only-of-type {\n",
       "        vertical-align: middle;\n",
       "    }\n",
       "\n",
       "    .dataframe tbody tr th {\n",
       "        vertical-align: top;\n",
       "    }\n",
       "\n",
       "    .dataframe thead th {\n",
       "        text-align: right;\n",
       "    }\n",
       "</style>\n",
       "<table border=\"1\" class=\"dataframe\">\n",
       "  <thead>\n",
       "    <tr style=\"text-align: right;\">\n",
       "      <th></th>\n",
       "      <th>Participant name</th>\n",
       "      <th>Pupil diameter left</th>\n",
       "      <th>Pupil diameter right</th>\n",
       "      <th>Gaze point X (MCSnorm)</th>\n",
       "      <th>Gaze point Y (MCSnorm)</th>\n",
       "      <th>Gaze event duration</th>\n",
       "      <th>Total Score extended</th>\n",
       "    </tr>\n",
       "  </thead>\n",
       "  <tbody>\n",
       "    <tr>\n",
       "      <th>0</th>\n",
       "      <td>1</td>\n",
       "      <td>0.047357</td>\n",
       "      <td>0.019464</td>\n",
       "      <td>2.488702</td>\n",
       "      <td>-1.930285</td>\n",
       "      <td>-0.730805</td>\n",
       "      <td>2</td>\n",
       "    </tr>\n",
       "    <tr>\n",
       "      <th>1</th>\n",
       "      <td>1</td>\n",
       "      <td>-0.124646</td>\n",
       "      <td>-0.080318</td>\n",
       "      <td>1.362306</td>\n",
       "      <td>-1.191304</td>\n",
       "      <td>-0.751860</td>\n",
       "      <td>2</td>\n",
       "    </tr>\n",
       "    <tr>\n",
       "      <th>2</th>\n",
       "      <td>1</td>\n",
       "      <td>0.054948</td>\n",
       "      <td>0.133298</td>\n",
       "      <td>1.098244</td>\n",
       "      <td>-0.462658</td>\n",
       "      <td>-0.782363</td>\n",
       "      <td>2</td>\n",
       "    </tr>\n",
       "    <tr>\n",
       "      <th>3</th>\n",
       "      <td>1</td>\n",
       "      <td>-0.036997</td>\n",
       "      <td>0.042475</td>\n",
       "      <td>1.111390</td>\n",
       "      <td>-0.437289</td>\n",
       "      <td>-0.727208</td>\n",
       "      <td>2</td>\n",
       "    </tr>\n",
       "    <tr>\n",
       "      <th>4</th>\n",
       "      <td>1</td>\n",
       "      <td>-0.071218</td>\n",
       "      <td>0.040078</td>\n",
       "      <td>1.587277</td>\n",
       "      <td>-0.323090</td>\n",
       "      <td>-0.655639</td>\n",
       "      <td>2</td>\n",
       "    </tr>\n",
       "  </tbody>\n",
       "</table>\n",
       "</div>"
      ],
      "text/plain": [
       "   Participant name  Pupil diameter left  Pupil diameter right  \\\n",
       "0                 1             0.047357              0.019464   \n",
       "1                 1            -0.124646             -0.080318   \n",
       "2                 1             0.054948              0.133298   \n",
       "3                 1            -0.036997              0.042475   \n",
       "4                 1            -0.071218              0.040078   \n",
       "\n",
       "   Gaze point X (MCSnorm)  Gaze point Y (MCSnorm)  Gaze event duration  \\\n",
       "0                2.488702               -1.930285            -0.730805   \n",
       "1                1.362306               -1.191304            -0.751860   \n",
       "2                1.098244               -0.462658            -0.782363   \n",
       "3                1.111390               -0.437289            -0.727208   \n",
       "4                1.587277               -0.323090            -0.655639   \n",
       "\n",
       "   Total Score extended  \n",
       "0                     2  \n",
       "1                     2  \n",
       "2                     2  \n",
       "3                     2  \n",
       "4                     2  "
      ]
     },
     "execution_count": 27,
     "metadata": {},
     "output_type": "execute_result"
    }
   ],
   "source": [
    "data.head()"
   ]
  },
  {
   "cell_type": "code",
   "execution_count": 36,
   "id": "9135d2f1",
   "metadata": {},
   "outputs": [],
   "source": [
    "# Code from: https://machinelearningmastery.com/training-validation-test-split-and-cross-validation-done-right/\n",
    "\n",
    "# Train-test split, intentionally use shuffle=False\n",
    "X = data.iloc[:,1:-1]\n",
    "Y = data.iloc[:,-1]\n",
    "\n",
    "X_train, X_test, Y_train, Y_test = train_test_split(X, Y, test_size=0.20, shuffle=False)"
   ]
  },
  {
   "cell_type": "code",
   "execution_count": 37,
   "id": "c2a13688",
   "metadata": {},
   "outputs": [],
   "source": [
    "# Create two models: Polynomial and linear regression\n",
    "degree = 2\n",
    "polyreg = make_pipeline(PolynomialFeatures(degree), LinearRegression(fit_intercept=False))\n",
    "linreg = LinearRegression()"
   ]
  },
  {
   "cell_type": "code",
   "execution_count": 38,
   "id": "67df9004",
   "metadata": {},
   "outputs": [],
   "source": [
    "# Cross-validation\n",
    "scoring = \"neg_root_mean_squared_error\"\n",
    "polyscores = cross_validate(polyreg, X_train, Y_train, scoring=scoring, return_estimator=True)\n",
    "linscores = cross_validate(linreg, X_train, Y_train, scoring=scoring, return_estimator=True)"
   ]
  },
  {
   "cell_type": "code",
   "execution_count": 40,
   "id": "b255cd14",
   "metadata": {},
   "outputs": [
    {
     "name": "stdout",
     "output_type": "stream",
     "text": [
      "-0.9544616824760507\n",
      "-1.4839683137116728\n",
      "0.5295066312356221\n"
     ]
    }
   ],
   "source": [
    "# Which one is better? Linear and polynomial\n",
    "print(linscores[\"test_score\"].mean())\n",
    "print(polyscores[\"test_score\"].mean())\n",
    "print(linscores[\"test_score\"].mean() - polyscores[\"test_score\"].mean())"
   ]
  },
  {
   "cell_type": "code",
   "execution_count": 41,
   "id": "3ab05017",
   "metadata": {},
   "outputs": [
    {
     "name": "stdout",
     "output_type": "stream",
     "text": [
      "Test set RMSE: 0.5714827379583589\n",
      "Mean validation RMSE: 0.9544616824760507\n"
     ]
    }
   ],
   "source": [
    "# Retrain the model and evaluate\n",
    "linreg = sklearn.base.clone(linreg)\n",
    "linreg.fit(X_train, Y_train)\n",
    "print(\"Test set RMSE:\", mean_squared_error(Y_test, linreg.predict(X_test), squared=False))\n",
    "print(\"Mean validation RMSE:\", -linscores[\"test_score\"].mean())"
   ]
  },
  {
   "cell_type": "markdown",
   "id": "455c4d92",
   "metadata": {},
   "source": [
    "## Logistic Regression"
   ]
  },
  {
   "cell_type": "code",
   "execution_count": 44,
   "id": "eeb379cb",
   "metadata": {},
   "outputs": [
    {
     "name": "stdout",
     "output_type": "stream",
     "text": [
      "Linear Regression CV scores:  [0.08333333 0.58333333 0.4375     0.33333333 0.41666667]\n",
      "Mean CV score:  0.37083333333333335\n",
      "Standard deviation of CV scores:  0.16478099944404326\n"
     ]
    }
   ],
   "source": [
    "# create a linear regression model\n",
    "logreg_model = LogisticRegression()\n",
    "\n",
    "# perform cross-validation with 5 folds\n",
    "scores = cross_val_score(logreg_model, X, Y, cv=5)\n",
    "\n",
    "# print the mean and standard deviation of the scores\n",
    "print(\"Logistic Regression CV scores: \", scores)\n",
    "print(\"Mean CV score: \", scores.mean())\n",
    "print(\"Standard deviation of CV scores: \", scores.std())"
   ]
  },
  {
   "cell_type": "markdown",
   "id": "961a7f5e",
   "metadata": {},
   "source": [
    "## Support Vector Regression"
   ]
  },
  {
   "cell_type": "code",
   "execution_count": 45,
   "id": "322343d5",
   "metadata": {},
   "outputs": [
    {
     "name": "stdout",
     "output_type": "stream",
     "text": [
      "Support Vector Regression CV scores:  [-0.4554346  -1.1001104  -2.33294648 -1.58259894 -0.88732524]\n",
      "Mean CV score:  -1.2716831296313538\n",
      "Standard deviation of CV scores:  0.6428652095225007\n"
     ]
    }
   ],
   "source": [
    "# create a support vector regression model with a radial basis function kernel\n",
    "svr_model = SVR(kernel='rbf')\n",
    "\n",
    "# perform cross-validation with 5 folds\n",
    "scores = cross_val_score(svr_model, X, Y, cv=5)\n",
    "\n",
    "# print the mean and standard deviation of the scores\n",
    "print(\"Support Vector Regression CV scores: \", scores)\n",
    "print(\"Mean CV score: \", scores.mean())\n",
    "print(\"Standard deviation of CV scores: \", scores.std())"
   ]
  },
  {
   "cell_type": "markdown",
   "id": "d6f8be99",
   "metadata": {},
   "source": [
    "## Neural Network"
   ]
  },
  {
   "cell_type": "code",
   "execution_count": 47,
   "id": "da8abdf5",
   "metadata": {},
   "outputs": [
    {
     "name": "stdout",
     "output_type": "stream",
     "text": [
      "Epoch 1/5\n",
      "6/6 [==============================] - 0s 3ms/step - loss: 3.9456\n",
      "Epoch 2/5\n",
      "6/6 [==============================] - 0s 3ms/step - loss: 3.5175\n",
      "Epoch 3/5\n",
      "6/6 [==============================] - 0s 6ms/step - loss: 3.1233\n",
      "Epoch 4/5\n",
      "6/6 [==============================] - 0s 3ms/step - loss: 2.7853\n",
      "Epoch 5/5\n",
      "6/6 [==============================] - 0s 3ms/step - loss: 2.4787\n",
      "2/2 [==============================] - 0s 2ms/step\n",
      "MSE:  1.9699799094223973\n",
      "MAE:  1.2708776437211782\n",
      "R-squared:  -6.879919637689589\n"
     ]
    }
   ],
   "source": [
    "# create a sequential model\n",
    "model = keras.Sequential([\n",
    "    keras.layers.Dense(64, input_dim=X_train.shape[1], activation='relu'),\n",
    "    keras.layers.Dense(1, activation='linear')\n",
    "])\n",
    "\n",
    "# compile the model\n",
    "model.compile(loss='mean_squared_error', optimizer='adam')\n",
    "\n",
    "# fit the model on training data\n",
    "model.fit(X_train, Y_train, epochs=5, batch_size=32)\n",
    "\n",
    "# predict on test data\n",
    "Y_pred = model.predict(X_test)\n",
    "\n",
    "# Print MSE, MAE, and R-squared score\n",
    "print(\"MSE: \", mean_squared_error(Y_test, Y_pred))\n",
    "print(\"MAE: \", mean_absolute_error(Y_test, Y_pred))\n",
    "print(\"R-squared: \", r2_score(Y_test, Y_pred))"
   ]
  },
  {
   "cell_type": "code",
   "execution_count": null,
   "id": "5c6a5140",
   "metadata": {},
   "outputs": [],
   "source": []
  },
  {
   "cell_type": "code",
   "execution_count": null,
   "id": "2034acc2",
   "metadata": {},
   "outputs": [],
   "source": []
  }
 ],
 "metadata": {
  "kernelspec": {
   "display_name": "Python 3 (ipykernel)",
   "language": "python",
   "name": "python3"
  },
  "language_info": {
   "codemirror_mode": {
    "name": "ipython",
    "version": 3
   },
   "file_extension": ".py",
   "mimetype": "text/x-python",
   "name": "python",
   "nbconvert_exporter": "python",
   "pygments_lexer": "ipython3",
   "version": "3.11.0"
  }
 },
 "nbformat": 4,
 "nbformat_minor": 5
}
